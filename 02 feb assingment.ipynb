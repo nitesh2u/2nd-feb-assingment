{
 "cells": [
  {
   "cell_type": "markdown",
   "id": "6feb25a1-af93-4f75-9ba8-a37577a97377",
   "metadata": {},
   "source": [
    "Q1. What are the characteristics of the tuples? Is tuple immutable?"
   ]
  },
  {
   "cell_type": "markdown",
   "id": "7e098bc1-c25c-426d-a358-3d81021a140c",
   "metadata": {},
   "source": [
    "ans the characteristics of the tuples are\n",
    "1.\tTuples are immutable. \n",
    "2.\tDifferent data types element can be together in tuples.\n",
    "3.\tTuples are enclosed in parenthesis.\n",
    "4.\tTuples being immutable can mutable type like list.\n",
    "5.\tTuples are hashable, which is reason behind use as key in dictionary.\n",
    "\n",
    "Yes, tuples is immutable.\n"
   ]
  },
  {
   "cell_type": "markdown",
   "id": "ecc6b3f9-4250-46e8-a79a-48f0d0901578",
   "metadata": {},
   "source": [
    "Q.2 What are the two tuple methods in python? Give an example of each method. Give a reason why tuples have only two in-built methods as compared to Lists"
   ]
  },
  {
   "cell_type": "markdown",
   "id": "b8400810-3d43-459d-85cf-956b3fbad71b",
   "metadata": {},
   "source": [
    " ans-The two tuple methods in python are count and index. meanwhile,tuples are immutable they don’t need in built methods like pop or append like list . list element are dynamic can be modified where in contrast tuples don’t need such modifying function.\n",
    "the examples are given below-:"
   ]
  },
  {
   "cell_type": "code",
   "execution_count": 3,
   "id": "6c7d7ab0-71f2-4f36-9575-0eed141cb9ea",
   "metadata": {},
   "outputs": [
    {
     "name": "stdout",
     "output_type": "stream",
     "text": [
      "6\n"
     ]
    }
   ],
   "source": [
    "#countexample\n",
    "tup1 = (2, 2, 2, 2, 2, 2)                                                                                                                                                 \n",
    "count = tup1.count(2)                                                                      \n",
    "print(count)"
   ]
  },
  {
   "cell_type": "code",
   "execution_count": 4,
   "id": "5e37fca9-0fcb-4606-b028-97161403d257",
   "metadata": {},
   "outputs": [
    {
     "name": "stdout",
     "output_type": "stream",
     "text": [
      "1\n"
     ]
    }
   ],
   "source": [
    "#indexexample                         \n",
    "tup1 = (6, 2, 5, 0, 2, 2)                                                                               \n",
    "index = tup1.index(2)\n",
    "print(index)  \n"
   ]
  },
  {
   "cell_type": "markdown",
   "id": "40eeeab7-ea93-4d7d-9a7d-362e2036c98f",
   "metadata": {},
   "source": [
    "Q.3 Which collection datatypes in python do not allow duplicate items? Write a code using a set to remove\n",
    "duplicates from the given list. \n",
    "List = [1, 1, 1, 2, 1, 3, 1, 4, 2, 1, 2, 2, 2, 3, 2, 4, 3, 1, 3, 2, 3, 3, 3, 4, 4, 1, 4, 2, 4, 3, 4, 4] \n",
    "\n"
   ]
  },
  {
   "cell_type": "markdown",
   "id": "183fe2b5-e1c7-41fd-bf8d-2f290f06cf2e",
   "metadata": {},
   "source": [
    "ans- set is datatype that don’t allow duplicate."
   ]
  },
  {
   "cell_type": "code",
   "execution_count": 5,
   "id": "f0846412-8425-4404-aa4e-6bc1b87d42dc",
   "metadata": {},
   "outputs": [
    {
     "name": "stdout",
     "output_type": "stream",
     "text": [
      "[1, 2, 3, 4]\n"
     ]
    }
   ],
   "source": [
    "#code\n",
    "list1 = [1, 1, 1, 2, 1, 3, 1, 4, 2, 1, 2, 2, 2, 3, 2, 4, 3, 1, 3, 2, 3, 3, 3, 4, 4, 1, 4, 2, 4, 3, 4, 4]\n",
    "set1 = set(list1)\n",
    "list1=list(set1)\n",
    "print(list1)\n"
   ]
  },
  {
   "cell_type": "markdown",
   "id": "bcada6ac-20d7-49b9-9c7d-7a3eee09b1ef",
   "metadata": {},
   "source": [
    "Q.4 Explain the difference between the union() and update() methods for a set. Give and example of each method."
   ]
  },
  {
   "cell_type": "markdown",
   "id": "042ed9f3-1eec-4e1e-af53-7680230c6300",
   "metadata": {},
   "source": [
    "ans- union- A new set containing all the distinct elements from both sets involved in the operation is returned by the union() method with original set remaining unchanged. meanwhile, \n",
    "update - The initial set is changed via the update() method, which incorporates elements from another  set. No new set is produced; the original set is updated with the new components"
   ]
  },
  {
   "cell_type": "code",
   "execution_count": 7,
   "id": "82680cbd-b75e-49c8-a3b1-af66661b4b4f",
   "metadata": {},
   "outputs": [
    {
     "name": "stdout",
     "output_type": "stream",
     "text": [
      "{1, 2, 3, 4, 5}\n",
      "{1, 2, 3}\n",
      "{3, 4, 5}\n"
     ]
    }
   ],
   "source": [
    "#union\n",
    "set1 = {1, 2, 3}\n",
    "set2 = {3, 4, 5}\n",
    "unionset = set1.union(set2)\n",
    "print(unionset)  \n",
    "print(set1)\n",
    "print(set2)"
   ]
  },
  {
   "cell_type": "code",
   "execution_count": 8,
   "id": "ef23162c-97a2-49e1-a05d-81203a0d1906",
   "metadata": {},
   "outputs": [
    {
     "name": "stdout",
     "output_type": "stream",
     "text": [
      "{1, 2, 3, 4, 5}\n"
     ]
    }
   ],
   "source": [
    "#update\n",
    "set1 = {1, 2, 3}\n",
    "set2 = {3, 4, 5}\n",
    "\n",
    "set1.update(set2)\n",
    "print(set1)  \n"
   ]
  },
  {
   "cell_type": "markdown",
   "id": "f428f28a-b823-4d8a-aa07-9e22027144e5",
   "metadata": {},
   "source": [
    "Q.5 What is a dictionary? Give an example. Also, state whether a dictionary is ordered or unordered. "
   ]
  },
  {
   "cell_type": "markdown",
   "id": "f0f8dd44-ecfe-4dae-8d14-b66b14b4509c",
   "metadata": {},
   "source": [
    "A dictionary is a group of key-value pairs in Python. It is an efficient data structure for storing and retrieving data that is mutable and unordered. A colon (:) and curly braces () are used to separate each key and value pair in a dictionary. A dictionary's keys, which are used to access associated values, are all one of a kind.  \"Dictionary is unordered\""
   ]
  },
  {
   "cell_type": "code",
   "execution_count": 10,
   "id": "65ddce94-c6cf-44a5-b003-bfe5c7b82c7f",
   "metadata": {},
   "outputs": [
    {
     "name": "stdout",
     "output_type": "stream",
     "text": [
      "{'name': 'nitesh', 'age': 25, 'city': 'jamshedpur'}\n"
     ]
    }
   ],
   "source": [
    "#example\n",
    "dict1 = {'name': 'nitesh', 'age': 25, 'city': 'jamshedpur'}\n",
    "print(dict1)\n"
   ]
  },
  {
   "cell_type": "markdown",
   "id": "bd6c2e48-616c-4e35-ae3d-d4a5c5e421e2",
   "metadata": {},
   "source": [
    "Q.6 Can we create a nested dictionary? If so, please give an example by creating a simple one-level\n",
    "nested dictionary \n"
   ]
  },
  {
   "cell_type": "markdown",
   "id": "25e31789-9d32-4ed3-9516-f2f46bf296cd",
   "metadata": {},
   "source": [
    "Ans- In fact, Python allows you to build nested dictionaries. A nested dictionary allows for an ordered arrangement of key-value pairs by allowing the values of the dictionary to also be other dictionaries"
   ]
  },
  {
   "cell_type": "code",
   "execution_count": 11,
   "id": "7a6bab57-4be5-4f25-b0ac-7d40ac474d9d",
   "metadata": {},
   "outputs": [
    {
     "name": "stdout",
     "output_type": "stream",
     "text": [
      "{'name': 'nitesh', 'age': 25, 'grades': {'math': 85, 'science': 92, 'history': 78}}\n"
     ]
    }
   ],
   "source": [
    "#example\n",
    "student = {\n",
    "    'name': 'nitesh', 'age': 25,'grades': {  'math': 85,  'science': 92,'history': 78 }}\n",
    "print(student)\n"
   ]
  },
  {
   "cell_type": "markdown",
   "id": "84e234a7-f62b-48a0-8180-53eb5329cee3",
   "metadata": {},
   "source": [
    "Q 7. Using setdefault() method, create key named topics in the given dictionary and also add the value of\n",
    "the key as this list ['Python', 'Machine Learning’, 'Deep Learning'] \n",
    "dict1 = {'language' : 'Python', 'course': 'Data Science Masters'}\n"
   ]
  },
  {
   "cell_type": "code",
   "execution_count": 12,
   "id": "3b512d89-751c-4151-b105-26ebe09ed4de",
   "metadata": {},
   "outputs": [
    {
     "name": "stdout",
     "output_type": "stream",
     "text": [
      "{'language': 'Python', 'course': 'Data Science Masters', 'topics': ['Python', 'Machine Learning', 'Deep Learning']}\n"
     ]
    }
   ],
   "source": [
    "#ans-\n",
    "dict1 = {'language': 'Python', 'course': 'Data Science Masters'}\n",
    "dict1.setdefault('topics', ['Python', 'Machine Learning', 'Deep Learning'])\n",
    "print(dict1)\n"
   ]
  },
  {
   "cell_type": "markdown",
   "id": "ede73c6e-b122-406d-8c33-a6ef50fa0695",
   "metadata": {},
   "source": [
    "Q.8 What are the three view objects in dictionaries? Use the three in-built methods in python to display\n",
    "these three view objects for the given dictionary. \n",
    "dict1 = {'Sport': 'Cricket', 'Teams': ['India', 'Australia', 'England', 'South Africa', 'Sri Lanka', 'New Zealand']}\n"
   ]
  },
  {
   "cell_type": "markdown",
   "id": "5593b3ff-9db9-4b8c-af03-9f0e4c367a82",
   "metadata": {},
   "source": [
    "ans- Ans- There are three view objects in Python dictionaries that offer various perspectives of the dictionary's keys, values, and key-value pairs. These view items include:\n",
    "\n",
    "dict_keys: This view object depicts the dictionary's keys.\n",
    "dict_values: The values of the dictionary are represented by this view object.\n",
    "dict_items: The key-value pairs of the dictionary are shown as tuples in this view object.\n"
   ]
  },
  {
   "cell_type": "code",
   "execution_count": 13,
   "id": "f6f5f51f-96b9-4e24-ab26-a7456184e59e",
   "metadata": {},
   "outputs": [
    {
     "name": "stdout",
     "output_type": "stream",
     "text": [
      "dict_keys(['Sport', 'Teams'])\n",
      "dict_values(['Cricket', ['India', 'Australia', 'England', 'South Africa', 'Sri Lanka', 'New Zealand']])\n",
      "dict_items([('Sport', 'Cricket'), ('Teams', ['India', 'Australia', 'England', 'South Africa', 'Sri Lanka', 'New Zealand'])])\n"
     ]
    }
   ],
   "source": [
    "#code\n",
    "dict1 = {'Sport': 'Cricket', 'Teams': ['India', 'Australia', 'England', 'South Africa', 'Sri Lanka', 'New Zealand']}\n",
    "\n",
    "keysview1 = dict1.keys()\n",
    "print(keysview1)  \n",
    "\n",
    "valuesview1 = dict1.values()\n",
    "print(valuesview1) \n",
    "\n",
    "itemsview1 = dict1.items()\n",
    "print(itemsview1) \n",
    "\n",
    "\n"
   ]
  },
  {
   "cell_type": "code",
   "execution_count": null,
   "id": "c3e9092b-b968-4b3c-9378-505b2abf13aa",
   "metadata": {},
   "outputs": [],
   "source": []
  }
 ],
 "metadata": {
  "kernelspec": {
   "display_name": "Python 3 (ipykernel)",
   "language": "python",
   "name": "python3"
  },
  "language_info": {
   "codemirror_mode": {
    "name": "ipython",
    "version": 3
   },
   "file_extension": ".py",
   "mimetype": "text/x-python",
   "name": "python",
   "nbconvert_exporter": "python",
   "pygments_lexer": "ipython3",
   "version": "3.10.8"
  }
 },
 "nbformat": 4,
 "nbformat_minor": 5
}
